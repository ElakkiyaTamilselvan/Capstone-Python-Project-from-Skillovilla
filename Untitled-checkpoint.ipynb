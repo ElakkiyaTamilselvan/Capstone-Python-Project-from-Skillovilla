'''Task 1
There are three different tables as given above. Please make three dataframe in python
and save them as three .csv files. From Task 2 to Task 10, use the saved .csv files only.'''

import pandas as pd
#store the dats into 3 different data frame
project_dataframe = pd.DataFrame({'Id':['A001','A002','A003','A004','A005','A002','A005','A003','A001','A003','A001','A004','A004','A005'],
                                  'Project':['Project 1','Project 2','Project 3','Project 4','Project 5','Project 6','Project 7','Project 8','Project 9','Project 10','Project 11','Project 12','Project 13','Project 14'],
                                  'Cost':[1002000,2000000,4500000,5500000,' ',680000,400000,350000,' ',300000,2000000,1000000,3000000,200000],
                                  'Status':['Finished','Ongoing','Finished','Ongoing','Finished','Failed','Finished','Failed','Ongoing','Finished','Failed','Ongoing','Finished','Finished']})
#to save the dataframe using to_csv 
project_dataframe.to_csv('project_data_frame.csv',index=False)

Employee_Dataframe = pd.DataFrame({'Id':['A001','A002','A003','A004','A005'],
                                   'Name':['John Alter','Alice Luxumberg','Tom Sabestine','Nina Adgra','Amy Johny'],
                                   'Gender':['M','F','M','F','F'],
                                   'City':['Paris','London','Berlin','Newyork','Madrid'],
                                   'Age':[25,27,29,31,30]})
Employee_Dataframe.to_csv('Employee_Data_frame.csv',index=False)

Seniority_Level_Dataframe = pd.DataFrame({'Id':['A001','A002','A003','A004','A005'],
                                          'Designation Level':[2,2,3,2,3]})
Seniority_Level_Dataframe.to_csv('Seniority_Level_Data_frame.csv',index=False)


print("project data frame saved")
print("Employee_Dataframe saved")
print('Seniority_Level_Dataframe saved')

'''Task 2
The cost column in the dataframe “Project” has some missing values. Your task is to
compute these missing values. Replace the missing values by running average. You
should use the “For” loop for this task.'''

import pandas as pd
import numpy as np

project_dataframe = pd.read_csv('project_data_frame.csv') #read the csv file

#convert cost column to nurmaric, if its not then forceing error to NUn to calculate mean value 
project_dataframe['Cost'] = pd.to_numeric(project_dataframe['Cost'], errors='coerce')

# Compute the running average and fill missing values
for i in range(1, len(project_dataframe)):
    if np.isnan(project_dataframe.loc[i, 'Cost']):
        project_dataframe.loc[i, 'Cost'] = project_dataframe['Cost'][:i].mean()

# Save the updated DataFrame to a new CSV file
project_dataframe.to_csv('updated_project_data_frame.csv', index=False)

print("Missing values in 'Cost' column have been replaced with running averages, and the updated DataFrame has been saved as 'updated_project_data_frame.csv'.")


'''Task 3
Split the name column in the Employee dataframe into two new columns “First Name”,
and “LastName” and remove the older “name” column.'''

import pandas as pd

Employee_Dataframe=pd.read_csv("Employee_Data_frame.csv")

# Splitting the "Name" column into "First Name" and "Last Name"
Employee_Dataframe[['First Name', 'Last Name']] = Employee_Dataframe['Name'].str.split(' ', expand=True)

# Removing the old "Name" column
Employee_Dataframe.drop(columns=['Name'], inplace=True)

# Saving the updated DataFrame as a CSV file
Employee_Dataframe.to_csv('Updated_Employee_Dataframe.csv', index=False)

print("Task 3 done saved as 'Updated_Employee_Dataframe.csv'.")



'''Task 4
Join all three dataframes in one single dataframe. Name it “Final”'''

import pandas as pd

#read csv file
df1=pd.read_csv('project_data_frame.csv')
df2=pd.read_csv('Employee_Data_frame.csv')
df3=pd.read_csv('Seniority_Level_Data_frame.csv')

#merge dataframe into one variable
merge_df=pd.merge(df2,df3,on='Id')
final=pd.merge(merge_df,df1, on='Id')

#save the concat into csv file
final.to_csv('Final.csv',index=False)

print("Task 4 done saved as 'Final'")


'''Task 5
Add a new bonus column in the Final dataframe. Give a 5% bonus concerning project cost only to employees who have finished the projects.'''

import pandas as pd

#Read the combined CSV file into the Final DataFrame
Final = pd.read_csv('Final.csv')

#Convert 'Cost' column to numeric, forcing errors to NaN
Final['Cost'] = pd.to_numeric(Final['Cost'], errors='coerce')

# Calculate the bonus: 5% of Cost for finished projects
Final['Bonus'] = Final.apply(lambda row: 0.05 * row['Cost'] if row['Status'] == 'Finished' else 0, axis=1)

# Save the updated DataFrame to a new CSV file
Final.to_csv('Final_with_bonus.csv', index=False)

print("Task 5 completed.. DataFrame has been saved as 'Final_with_bonus.csv'.")
